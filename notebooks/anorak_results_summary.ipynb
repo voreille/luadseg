{
 "cells": [
  {
   "cell_type": "code",
   "execution_count": null,
   "id": "8ec93377",
   "metadata": {},
   "outputs": [],
   "source": [
    "from mlflow.tracking import MlflowClient\n",
    "import pandas as pd\n"
   ]
  },
  {
   "cell_type": "code",
   "execution_count": null,
   "id": "411a86a6",
   "metadata": {},
   "outputs": [],
   "source": [
    "\n",
    "client = MlflowClient(tracking_uri=\"http://localhost:5000\")\n",
    "exp = client.get_experiment_by_name(\"anorak_ratios\")\n"
   ]
  },
  {
   "cell_type": "code",
   "execution_count": null,
   "id": "58c8ad0c",
   "metadata": {},
   "outputs": [],
   "source": [
    "exp"
   ]
  },
  {
   "cell_type": "code",
   "execution_count": null,
   "id": "2c5eaf6b",
   "metadata": {},
   "outputs": [],
   "source": [
    "\n",
    "flt = \"tags.run_group = 'my_sweep_1'\"\n",
    "runs = client.search_runs([exp.experiment_id],  max_results=10000)\n"
   ]
  },
  {
   "cell_type": "code",
   "execution_count": null,
   "id": "b08c832a",
   "metadata": {},
   "outputs": [],
   "source": [
    "exp.experiment_id"
   ]
  },
  {
   "cell_type": "code",
   "execution_count": null,
   "id": "19d4564f",
   "metadata": {},
   "outputs": [],
   "source": [
    "\n",
    "rows = []\n",
    "for r in runs:\n",
    "    p = r.data.params; t = r.data.tags; m = r.data.metrics\n",
    "    rows.append({\n",
    "        \"run_id\": r.info.run_id,\n",
    "        \"encoder\": t.get(\"encoder\"),\n",
    "        \"mag\": t.get(\"mag_label\"),\n",
    "        \"tile_size\": int(t.get(\"tile_size\", 0)),\n",
    "        \"lr\": float(p.get(\"lr\", \"nan\")),\n",
    "        \"dropout\": float(p.get(\"dropout\", \"nan\")),\n",
    "        \"JS_macro\": m.get(\"tile/JS_macro\"),\n",
    "        \"MAE_macro\": m.get(\"tile/MAE_macro\"),\n",
    "        \"ROI_MAE_macro\": m.get(\"roi/MAE_macro\"),\n",
    "        \"seed\": int(t.get(\"seed\", 0)),\n",
    "    })\n",
    "df = pd.DataFrame(rows).sort_values([\"JS_macro\",\"ROI_MAE_macro\"], ascending=[True, True])\n",
    "print(df.head(10))"
   ]
  },
  {
   "cell_type": "code",
   "execution_count": null,
   "id": "091143f4",
   "metadata": {},
   "outputs": [],
   "source": []
  }
 ],
 "metadata": {
  "kernelspec": {
   "display_name": "histoseg",
   "language": "python",
   "name": "python3"
  },
  "language_info": {
   "codemirror_mode": {
    "name": "ipython",
    "version": 3
   },
   "file_extension": ".py",
   "mimetype": "text/x-python",
   "name": "python",
   "nbconvert_exporter": "python",
   "pygments_lexer": "ipython3",
   "version": "3.12.11"
  }
 },
 "nbformat": 4,
 "nbformat_minor": 5
}
