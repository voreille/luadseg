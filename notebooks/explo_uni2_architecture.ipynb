{
 "cells": [
  {
   "cell_type": "code",
   "execution_count": 1,
   "id": "985413ee",
   "metadata": {},
   "outputs": [],
   "source": [
    "import torch\n",
    "from torch import nn\n",
    "\n",
    "from luadseg.models.foundation_models import load_model\n",
    "from luadseg.utils import get_device"
   ]
  },
  {
   "cell_type": "markdown",
   "id": "d2be4fd4",
   "metadata": {},
   "source": [
    "Try forward intermediate method, see the timm doc"
   ]
  },
  {
   "cell_type": "code",
   "execution_count": 2,
   "id": "b9ceb56f",
   "metadata": {},
   "outputs": [
    {
     "name": "stdout",
     "output_type": "stream",
     "text": [
      "Using cuda:0\n"
     ]
    }
   ],
   "source": [
    "device = get_device(gpu_id=0)"
   ]
  },
  {
   "cell_type": "code",
   "execution_count": 3,
   "id": "e8bf683b",
   "metadata": {},
   "outputs": [],
   "source": [
    "model, preprocess, embedding_dim, autocast_dtype = load_model(\"UNI2\", device=device, apply_torch_scripting=False)"
   ]
  },
  {
   "cell_type": "code",
   "execution_count": 4,
   "id": "c4bacfd7",
   "metadata": {},
   "outputs": [
    {
     "data": {
      "text/plain": [
       "timm.models.vision_transformer.VisionTransformer"
      ]
     },
     "execution_count": 4,
     "metadata": {},
     "output_type": "execute_result"
    }
   ],
   "source": [
    "type(model)"
   ]
  },
  {
   "cell_type": "code",
   "execution_count": 5,
   "id": "8807be4d",
   "metadata": {},
   "outputs": [
    {
     "data": {
      "text/plain": [
       "24"
      ]
     },
     "execution_count": 5,
     "metadata": {},
     "output_type": "execute_result"
    }
   ],
   "source": [
    "len(model.blocks)"
   ]
  },
  {
   "cell_type": "code",
   "execution_count": 6,
   "id": "1d2b542c",
   "metadata": {},
   "outputs": [],
   "source": [
    "x = torch.randn(1, 3, 224, 224).to(device)"
   ]
  },
  {
   "cell_type": "code",
   "execution_count": 7,
   "id": "e3527cc0",
   "metadata": {},
   "outputs": [],
   "source": [
    "feat = model.forward_intermediates(x, indices=[5, 20, 23], norm=True, stop_early=False, intermediates_only=True)"
   ]
  },
  {
   "cell_type": "code",
   "execution_count": 8,
   "id": "c348df1d",
   "metadata": {},
   "outputs": [
    {
     "data": {
      "text/plain": [
       "3"
      ]
     },
     "execution_count": 8,
     "metadata": {},
     "output_type": "execute_result"
    }
   ],
   "source": [
    "len(feat)"
   ]
  },
  {
   "cell_type": "code",
   "execution_count": 9,
   "id": "144248c5",
   "metadata": {},
   "outputs": [
    {
     "data": {
      "text/plain": [
       "torch.Size([1, 1536, 16, 16])"
      ]
     },
     "execution_count": 9,
     "metadata": {},
     "output_type": "execute_result"
    }
   ],
   "source": [
    "feat[2].shape"
   ]
  },
  {
   "cell_type": "code",
   "execution_count": null,
   "id": "02108cce",
   "metadata": {},
   "outputs": [],
   "source": [
    "model.named_parameters()"
   ]
  },
  {
   "cell_type": "code",
   "execution_count": null,
   "id": "55f5045b",
   "metadata": {},
   "outputs": [],
   "source": [
    "feat[0].shape, feat[1][1].shape"
   ]
  },
  {
   "cell_type": "code",
   "execution_count": null,
   "id": "5ee90276",
   "metadata": {},
   "outputs": [],
   "source": [
    "model_without_last_block = torch.nn.Sequential(*model.blocks[:-1])"
   ]
  },
  {
   "cell_type": "code",
   "execution_count": null,
   "id": "9ad346f4",
   "metadata": {},
   "outputs": [],
   "source": [
    "model.cls_token"
   ]
  },
  {
   "cell_type": "code",
   "execution_count": null,
   "id": "985b5ab3",
   "metadata": {},
   "outputs": [],
   "source": [
    "# Dummy input image\n",
    "x = torch.randn(1, 3, 224, 224).to(device)  # B x 3 x H x W\n",
    "\n",
    "# Forward through original model\n",
    "model.eval()\n",
    "with torch.no_grad():\n",
    "    y = model.forward_features(x)  # Shape: [B, L, C]\n",
    "    y_cls = model(x)\n",
    "\n",
    "# Forward through wrapper\n",
    "with torch.no_grad():\n",
    "    feat = model.forward_intermediates(x, indices=[5, 23], norm=True, stop_early=False)\n",
    "    y_skips = feat[0]          # Last layer [B, L, C]\n",
    "    y_cls_skips = feat[0][:, 0, :]  # CLS token [B, C]\n",
    "\n",
    "# Compare the final outputs\n",
    "diff = torch.abs(y - y_skips).max()\n",
    "print(f\"Max absolute difference: {diff.item()}\")\n",
    "\n",
    "# Optional: check if close enough\n",
    "assert torch.allclose(y, y_skips, atol=1e-5), \"Mismatch between model and wrapper\"\n",
    "print(\"✅ Final transformer output matches.\")\n",
    "\n",
    "# Compare the final outputs\n",
    "diff = torch.abs(y_cls - y_cls_skips).max()\n",
    "print(f\"Max absolute difference: {diff.item()}\")\n"
   ]
  },
  {
   "cell_type": "code",
   "execution_count": null,
   "id": "ec8f498a",
   "metadata": {},
   "outputs": [],
   "source": [
    "y_skips.shape, y.shape  # Both should be [B, L, C] where L is the number of tokens and C is the embedding dimension"
   ]
  },
  {
   "cell_type": "code",
   "execution_count": null,
   "id": "78385dfe",
   "metadata": {},
   "outputs": [],
   "source": [
    "y_skips"
   ]
  },
  {
   "cell_type": "code",
   "execution_count": null,
   "id": "c8df9adc",
   "metadata": {},
   "outputs": [],
   "source": [
    "y"
   ]
  },
  {
   "cell_type": "code",
   "execution_count": null,
   "id": "675f37ab",
   "metadata": {},
   "outputs": [],
   "source": []
  }
 ],
 "metadata": {
  "kernelspec": {
   "display_name": "torchpl",
   "language": "python",
   "name": "python3"
  },
  "language_info": {
   "codemirror_mode": {
    "name": "ipython",
    "version": 3
   },
   "file_extension": ".py",
   "mimetype": "text/x-python",
   "name": "python",
   "nbconvert_exporter": "python",
   "pygments_lexer": "ipython3",
   "version": "3.11.0"
  }
 },
 "nbformat": 4,
 "nbformat_minor": 5
}
