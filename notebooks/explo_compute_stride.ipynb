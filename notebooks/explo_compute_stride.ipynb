{
 "cells": [
  {
   "cell_type": "code",
   "execution_count": null,
   "id": "1f3c8582",
   "metadata": {},
   "outputs": [],
   "source": [
    "import math"
   ]
  },
  {
   "cell_type": "code",
   "execution_count": null,
   "id": "3daee17a",
   "metadata": {},
   "outputs": [],
   "source": [
    "def calculate_stride(image_dim, tile_size=256, minimum_overlap=0.5):\n",
    "    \"\"\"Calculate stride so that tiles of size tile_size cover the image with at least minimum overlap.\"\"\"\n",
    "    if image_dim <= tile_size:\n",
    "        raise ValueError(\"Image dimension must be larger than tile size\")\n",
    "\n",
    "    # Compute maximum allowed stride\n",
    "    max_stride = int(tile_size * (1 - minimum_overlap))\n",
    "    if max_stride < 1:\n",
    "        raise ValueError(\"Minimum overlap too high; stride becomes zero or negative.\")\n",
    "\n",
    "    # Compute number of steps needed to cover the image\n",
    "    n_tiles = math.ceil((image_dim - tile_size) / max_stride) + 1\n",
    "\n",
    "    # Distribute tiles symmetrically across the image\n",
    "    if n_tiles == 1:\n",
    "        return 0\n",
    "\n",
    "    # Adjust stride so that tiles span the full image\n",
    "    stride = (image_dim - tile_size) // (n_tiles - 1)\n",
    "\n",
    "    return int(stride)\n"
   ]
  },
  {
   "cell_type": "code",
   "execution_count": null,
   "id": "881a7079",
   "metadata": {},
   "outputs": [],
   "source": [
    "def calculate_stride_myversion(image_dim, tile_size=256, minimum_overlap=0.5):\n",
    "    \"\"\"Calculate stride to align tiles symmetrically with borders.\"\"\"\n",
    "    if image_dim <= tile_size:\n",
    "        raise ValueError(\"Image dimension must be larger than tile size\")\n",
    "\n",
    "    # TODO: check if this is correct\n",
    "    n_tiles = math.ceil(image_dim / tile_size / (1 - minimum_overlap))\n",
    "\n",
    "    if n_tiles == 1:\n",
    "        return 0  # Single tile, no stride needed\n",
    "\n",
    "    # compute how much space is left after placing n_tiles tiles of size tile_size\n",
    "    # then distribute this space evenly between the tiles\n",
    "    total_stride_space = tile_size * n_tiles - image_dim\n",
    "    stride = tile_size - total_stride_space // (n_tiles - 1)\n",
    "\n",
    "    return int(stride)\n"
   ]
  },
  {
   "cell_type": "code",
   "execution_count": null,
   "id": "e90ff9d2",
   "metadata": {},
   "outputs": [],
   "source": [
    "image_dims = [3*128, 512, 700, 800, 1000, 1024, 1200, 1500, 2000, 2048, 3000, 4000, 5000]\n",
    "\n",
    "for dim in image_dims:\n",
    "    stride_1 = calculate_stride(dim)\n",
    "    stride_2 = calculate_stride_myversion(dim)\n",
    "    print(f\"Image dimension: {dim}, Stride (original): {stride_1}, Stride (my version): {stride_2}\")"
   ]
  },
  {
   "cell_type": "code",
   "execution_count": null,
   "id": "7fc561bf",
   "metadata": {},
   "outputs": [],
   "source": []
  }
 ],
 "metadata": {
  "kernelspec": {
   "display_name": "torchpl",
   "language": "python",
   "name": "python3"
  },
  "language_info": {
   "codemirror_mode": {
    "name": "ipython",
    "version": 3
   },
   "file_extension": ".py",
   "mimetype": "text/x-python",
   "name": "python",
   "nbconvert_exporter": "python",
   "pygments_lexer": "ipython3",
   "version": "3.11.0"
  }
 },
 "nbformat": 4,
 "nbformat_minor": 5
}
