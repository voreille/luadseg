{
 "cells": [
  {
   "cell_type": "code",
   "execution_count": null,
   "id": "190d6871",
   "metadata": {},
   "outputs": [],
   "source": [
    "import torch\n",
    "from torchvision import transforms\n",
    "import torchstain\n",
    "import cv2\n",
    "from PIL import Image \n",
    "import numpy as np\n",
    "\n",
    "import matplotlib.pyplot as plt"
   ]
  },
  {
   "cell_type": "code",
   "execution_count": null,
   "id": "6d398a71",
   "metadata": {},
   "outputs": [],
   "source": [
    "to_transform_path = \"/home/valentin/workspaces/luadseg/data/processed/ANORAK_not_resized/image/train001_Da382.png\" \n",
    "target_path = \"/home/valentin/workspaces/luadseg/data/processed/ANORAK_not_resized/image/train046_Da777.png\"\n",
    "\n",
    "to_transform = cv2.cvtColor(cv2.imread(to_transform_path), cv2.COLOR_BGR2RGB)\n",
    "target = cv2.cvtColor(cv2.imread(target_path), cv2.COLOR_BGR2RGB)\n",
    "pil_to_transform = Image.open(to_transform_path).convert(\"RGB\")\n"
   ]
  },
  {
   "cell_type": "code",
   "execution_count": null,
   "id": "78c129f2",
   "metadata": {},
   "outputs": [],
   "source": [
    "np.array(pil_to_transform).shape"
   ]
  },
  {
   "cell_type": "code",
   "execution_count": null,
   "id": "81ed46c1",
   "metadata": {},
   "outputs": [],
   "source": [
    "\n",
    "T = transforms.Compose([\n",
    "    transforms.ToTensor(),\n",
    "    transforms.Lambda(lambda x: x*255)\n",
    "])\n"
   ]
  },
  {
   "cell_type": "code",
   "execution_count": null,
   "id": "eb4b3278",
   "metadata": {},
   "outputs": [],
   "source": [
    "\n",
    "normalizer = torchstain.normalizers.MacenkoNormalizer(backend='torch')\n",
    "normalizer.fit(T(target))\n"
   ]
  },
  {
   "cell_type": "code",
   "execution_count": null,
   "id": "9897c09e",
   "metadata": {},
   "outputs": [],
   "source": [
    "\n",
    "t_to_transform = T(to_transform)\n",
    "norm, H, E = normalizer.normalize(I=t_to_transform, stains=True)\n"
   ]
  },
  {
   "cell_type": "code",
   "execution_count": null,
   "id": "e396c8b7",
   "metadata": {},
   "outputs": [],
   "source": [
    "def normalize_fn(img):\n",
    "    t_to_transform = T(img)\n",
    "    norm, H, E = normalizer.normalize(I=t_to_transform, stains=True)\n",
    "    return Image.fromarray(norm.numpy())"
   ]
  },
  {
   "cell_type": "code",
   "execution_count": null,
   "id": "4b99e0ba",
   "metadata": {},
   "outputs": [],
   "source": [
    "norm.shape"
   ]
  },
  {
   "cell_type": "code",
   "execution_count": null,
   "id": "78512db9",
   "metadata": {},
   "outputs": [],
   "source": [
    "plt.imshow(norm.numpy())"
   ]
  },
  {
   "cell_type": "code",
   "execution_count": null,
   "id": "305d3d1b",
   "metadata": {},
   "outputs": [],
   "source": [
    "plt.imshow(to_transform)"
   ]
  },
  {
   "cell_type": "code",
   "execution_count": null,
   "id": "aa3df23b",
   "metadata": {},
   "outputs": [],
   "source": [
    "t_pil_to_transform = T(np.array(pil_to_transform))\n",
    "\n"
   ]
  },
  {
   "cell_type": "code",
   "execution_count": null,
   "id": "4f9ff50f",
   "metadata": {},
   "outputs": [],
   "source": [
    "pil_norm, H, E = normalizer.normalize(I=t_pil_to_transform, stains=True)\n"
   ]
  },
  {
   "cell_type": "code",
   "execution_count": null,
   "id": "3e6f612e",
   "metadata": {},
   "outputs": [],
   "source": [
    "pil_norm.numpy().shape"
   ]
  },
  {
   "cell_type": "code",
   "execution_count": null,
   "id": "3421eac5",
   "metadata": {},
   "outputs": [],
   "source": [
    "plt.imshow(pil_norm.numpy())"
   ]
  },
  {
   "cell_type": "code",
   "execution_count": null,
   "id": "4daf8629",
   "metadata": {},
   "outputs": [],
   "source": [
    "Image.fromarray(pil_norm.numpy().astype(np.uint8))"
   ]
  },
  {
   "cell_type": "code",
   "execution_count": null,
   "id": "ebd0ab2d",
   "metadata": {},
   "outputs": [],
   "source": []
  }
 ],
 "metadata": {
  "kernelspec": {
   "display_name": "histoseg",
   "language": "python",
   "name": "python3"
  },
  "language_info": {
   "codemirror_mode": {
    "name": "ipython",
    "version": 3
   },
   "file_extension": ".py",
   "mimetype": "text/x-python",
   "name": "python",
   "nbconvert_exporter": "python",
   "pygments_lexer": "ipython3",
   "version": "3.12.11"
  }
 },
 "nbformat": 4,
 "nbformat_minor": 5
}
