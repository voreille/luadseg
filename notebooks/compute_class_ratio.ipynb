{
 "cells": [
  {
   "cell_type": "code",
   "execution_count": null,
   "id": "f54ed483",
   "metadata": {},
   "outputs": [],
   "source": [
    "from pathlib import Path\n",
    "\n",
    "import pandas as pd\n",
    "import cv2\n",
    "import numpy as np\n",
    "from tqdm import tqdm\n",
    "import matplotlib.pyplot as plt"
   ]
  },
  {
   "cell_type": "code",
   "execution_count": null,
   "id": "2506a070",
   "metadata": {},
   "outputs": [],
   "source": [
    "pattern_map = {\n",
    "    0: \"background\",\n",
    "    1: \"cribriform\",               # unclear — green is not in the original doc\n",
    "    2: \"micropapillary\",\n",
    "    3: \"solid\",\n",
    "    4: \"papillary\",\n",
    "    5: \"acinar\",\n",
    "    6: \"lepidic\",\n",
    "}"
   ]
  },
  {
   "cell_type": "code",
   "execution_count": null,
   "id": "da330df9",
   "metadata": {},
   "outputs": [],
   "source": [
    "pattern_to_class = {\n",
    "    \"background\": 0,\n",
    "    \"cribriform\": 1,\n",
    "    \"micropapillary\": 2,\n",
    "    \"solid\": 3,\n",
    "    \"papillary\": 4,\n",
    "    \"acinar\": 5,\n",
    "    \"lepidic\": 6,\n",
    "}\n",
    "# Actually let them as this, not sure about the true class mapping\n",
    "pattern_to_class = {\n",
    "    \"label0\": 0,\n",
    "    \"label1\": 1,\n",
    "    \"label2\": 2,\n",
    "    \"label3\": 3,\n",
    "    \"label4\": 4,\n",
    "    \"label5\": 5,\n",
    "    \"label6\": 6,\n",
    "}"
   ]
  },
  {
   "cell_type": "code",
   "execution_count": null,
   "id": "e6a47c75",
   "metadata": {},
   "outputs": [],
   "source": [
    "mask = cv2.imread(\n",
    "            \"/home/valentin/workspaces/luadseg/data/processed/training_patches/maskPng/train001_Da382_3.png\",\n",
    "            cv2.IMREAD_UNCHANGED,\n",
    "        )"
   ]
  },
  {
   "cell_type": "code",
   "execution_count": null,
   "id": "a3eefe21",
   "metadata": {},
   "outputs": [],
   "source": [
    "images_directory = Path(\"/home/valentin/workspaces/luadseg/data/processed/training_patches/image\")\n",
    "masks_directory = Path(\"/home/valentin/workspaces/luadseg/data/processed/training_patches/maskPng\")\n",
    "mask_paths = [\n",
    "    f.resolve() for f in masks_directory.glob(\"*.png\")\n",
    "]"
   ]
  },
  {
   "cell_type": "code",
   "execution_count": null,
   "id": "208d3434",
   "metadata": {},
   "outputs": [],
   "source": [
    "ratio_df = pd.DataFrame(columns=[\"image_id\", \"background\", \"lepidic\", \"papillary\", \"acinar\", \"cribriform\", \"micropapillary\", \"solid\"])\n"
   ]
  },
  {
   "cell_type": "code",
   "execution_count": null,
   "id": "605773cb",
   "metadata": {},
   "outputs": [],
   "source": [
    "\n",
    "ratios_list = []\n",
    "for mask_path in tqdm(mask_paths, desc=\"Processing masks\"):\n",
    "    image_id = mask_path.stem\n",
    "    mask = cv2.imread(\n",
    "        str(mask_path),\n",
    "        cv2.IMREAD_UNCHANGED,\n",
    "    )\n",
    "\n",
    "    if mask is None:\n",
    "        print(f\"Mask not found for {image_id}\")\n",
    "        continue\n",
    "\n",
    "    # Count the number of pixels for each class\n",
    "    pattern_dict = {k: np.mean(mask == v) for k, v in pattern_to_class.items()}\n",
    "\n",
    "    ratios_list.append(\n",
    "        {\n",
    "            \"image_id\": image_id,\n",
    "            **pattern_dict,\n",
    "        }\n",
    "    )\n",
    "\n",
    "ratio_df = pd.DataFrame(ratios_list)"
   ]
  },
  {
   "cell_type": "code",
   "execution_count": null,
   "id": "0c2e87d7",
   "metadata": {},
   "outputs": [],
   "source": [
    "ratio_df = ratio_df.sort_values(by=\"image_id\").reset_index(drop=True)\n",
    "ratio_df.head()"
   ]
  },
  {
   "cell_type": "code",
   "execution_count": null,
   "id": "6d10df1c",
   "metadata": {},
   "outputs": [],
   "source": [
    "ratio_df.to_csv(\"/home/valentin/workspaces/luadseg/data/processed/training_patches/class_ratio.csv\", index=False)"
   ]
  },
  {
   "cell_type": "code",
   "execution_count": null,
   "id": "dce91ba8",
   "metadata": {},
   "outputs": [],
   "source": [
    "# Define your label -> RGB color mapping\n",
    "label_colors = {\n",
    "    0: (0, 0, 0),         # background - black\n",
    "    1: (0, 255, 0),       # cribriform - cyan/greenish\n",
    "    2: (255, 0, 255),     # micropapillary - magenta\n",
    "    3: (128, 0, 0),       # solid - dark red\n",
    "    4: (255, 255, 0),     # papillary - yellow\n",
    "    5: (255, 0, 0),       # acinar - red\n",
    "    6: (0, 0, 255),       # lepidic - blue\n",
    "}\n",
    "\n",
    "def visualize_data(image_id, images_directory, masks_directory):\n",
    "    image_path = images_directory / f\"{image_id}.png\"\n",
    "    mask_path = masks_directory / f\"{image_id}.png\"\n",
    "\n",
    "    image = cv2.imread(str(image_path), cv2.IMREAD_COLOR)\n",
    "    if image is None:\n",
    "        print(f\"Image not found: {image_path}\")\n",
    "        return\n",
    "    image = cv2.cvtColor(image, cv2.COLOR_BGR2RGB)\n",
    "\n",
    "    mask = cv2.imread(str(mask_path), cv2.IMREAD_UNCHANGED)\n",
    "    if mask is None:\n",
    "        print(f\"Mask not found: {mask_path}\")\n",
    "        return\n",
    "\n",
    "    # Convert the grayscale mask to a color RGB mask\n",
    "    mask_rgb = np.zeros((*mask.shape, 3), dtype=np.uint8)\n",
    "    for label, color in label_colors.items():\n",
    "        mask_rgb[mask == label] = color\n",
    "\n",
    "    # Display the image and the color-coded mask\n",
    "    plt.figure(figsize=(12, 6))\n",
    "    plt.subplot(1, 2, 1)\n",
    "    plt.imshow(image)\n",
    "    plt.title(f\"Image: {image_id}\")\n",
    "    plt.axis('off')\n",
    "\n",
    "    plt.subplot(1, 2, 2)\n",
    "    plt.imshow(mask_rgb)\n",
    "    plt.title(f\"Segmentation Mask\")\n",
    "    plt.axis('off')\n",
    "\n",
    "    plt.tight_layout()\n",
    "    plt.show()"
   ]
  },
  {
   "cell_type": "code",
   "execution_count": null,
   "id": "44d05b39",
   "metadata": {},
   "outputs": [],
   "source": [
    "visualize_data(\"train021_Da35_7\", images_directory, masks_directory )"
   ]
  },
  {
   "cell_type": "code",
   "execution_count": null,
   "id": "d01119da",
   "metadata": {},
   "outputs": [],
   "source": []
  }
 ],
 "metadata": {
  "kernelspec": {
   "display_name": "torchpl",
   "language": "python",
   "name": "python3"
  },
  "language_info": {
   "codemirror_mode": {
    "name": "ipython",
    "version": 3
   },
   "file_extension": ".py",
   "mimetype": "text/x-python",
   "name": "python",
   "nbconvert_exporter": "python",
   "pygments_lexer": "ipython3",
   "version": "3.11.0"
  }
 },
 "nbformat": 4,
 "nbformat_minor": 5
}
