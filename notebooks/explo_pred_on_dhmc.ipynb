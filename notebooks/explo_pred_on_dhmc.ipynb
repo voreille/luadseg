{
 "cells": [
  {
   "cell_type": "code",
   "execution_count": null,
   "id": "d51db1cf",
   "metadata": {},
   "outputs": [],
   "source": [
    "from pathlib import Path\n",
    "\n",
    "import torch\n",
    "import numpy as np\n",
    "import matplotlib.pyplot as plt\n",
    "from PIL import Image\n",
    "from histoseg_plugin.storage.factory import build_embedding_store_from_dir\n",
    "import openslide\n",
    "from scipy.ndimage import affine_transform\n",
    "import pandas as pd\n",
    "\n",
    "from luadseg.eval.anorak import LinearSoftmaxHead\n",
    "from luadseg.data.constants import ANORAK_CLASS_MAPPING"
   ]
  },
  {
   "cell_type": "code",
   "execution_count": null,
   "id": "36f05a75",
   "metadata": {},
   "outputs": [],
   "source": [
    "dhmc_metadata = pd.read_csv(\"/home/valentin/workspaces/luadseg/data/raw/DHMC/MetaData_Release_1.0.csv\")"
   ]
  },
  {
   "cell_type": "code",
   "execution_count": null,
   "id": "80471e40",
   "metadata": {},
   "outputs": [],
   "source": [
    "dhmc_metadata[\"slide_id\"] = dhmc_metadata[\"File Name\"].str.replace(\".tif\", \"\", regex=False)"
   ]
  },
  {
   "cell_type": "code",
   "execution_count": null,
   "id": "0bb6e78f",
   "metadata": {},
   "outputs": [],
   "source": [
    "dhmc_metadata"
   ]
  },
  {
   "cell_type": "code",
   "execution_count": null,
   "id": "af595038",
   "metadata": {},
   "outputs": [],
   "source": [
    "def get_class_from_slide_id(slide_id: str) -> str:\n",
    "    row = dhmc_metadata[dhmc_metadata[\"slide_id\"] == slide_id]\n",
    "    assert len(row) == 1\n",
    "    return row[\"Class\"].values[0]"
   ]
  },
  {
   "cell_type": "code",
   "execution_count": null,
   "id": "420509d0",
   "metadata": {},
   "outputs": [],
   "source": [
    "weights_path = \"/home/valentin/workspaces/luadseg/mlflow/839028616188564930/f29f1b20c47f419c9ee99ac016ceb9c7/artifacts/heads/fold_0.pt\""
   ]
  },
  {
   "cell_type": "code",
   "execution_count": null,
   "id": "21601450",
   "metadata": {},
   "outputs": [],
   "source": [
    "linear_head_state_dict = torch.load(weights_path)\n",
    "\n",
    "linear_head = LinearSoftmaxHead(in_dim=linear_head_state_dict[\"in_dim\"],\n",
    "                                n_classes=7)\n",
    "linear_head.load_state_dict(linear_head_state_dict[\"state_dict\"])\n",
    "linear_head.eval()"
   ]
  },
  {
   "cell_type": "code",
   "execution_count": null,
   "id": "adc9fc80",
   "metadata": {},
   "outputs": [],
   "source": [
    "linear_head_state_dict"
   ]
  },
  {
   "cell_type": "code",
   "execution_count": null,
   "id": "cfa510bc",
   "metadata": {},
   "outputs": [],
   "source": [
    "slides_dir = \"/home/valentin/workspaces/luadseg/data/raw/DHMC/DHMC_LUAD_corrected\"\n",
    "embedding_dir = \"/home/valentin/workspaces/luadseg/data/embeds/DHMC/224_10x/uni2\"\n",
    "embedding_store = build_embedding_store_from_dir(slides_root=slides_dir,\n",
    "                                                 root_dir=embedding_dir)\n"
   ]
  },
  {
   "cell_type": "code",
   "execution_count": null,
   "id": "8c9f2cfb",
   "metadata": {},
   "outputs": [],
   "source": [
    "slides_id = embedding_store.slide_ids()\n",
    "slide_id = \"DHMC_0140\"\n",
    "get_class_from_slide_id(slide_id)"
   ]
  },
  {
   "cell_type": "code",
   "execution_count": null,
   "id": "89960c67",
   "metadata": {},
   "outputs": [],
   "source": [
    "feats, coords, attrs = embedding_store.load(slide_id)"
   ]
  },
  {
   "cell_type": "code",
   "execution_count": null,
   "id": "956c2b08",
   "metadata": {},
   "outputs": [],
   "source": [
    "attrs"
   ]
  },
  {
   "cell_type": "code",
   "execution_count": null,
   "id": "2ca72e55",
   "metadata": {},
   "outputs": [],
   "source": [
    "feats.shape"
   ]
  },
  {
   "cell_type": "code",
   "execution_count": null,
   "id": "46f8d012",
   "metadata": {},
   "outputs": [],
   "source": [
    "with torch.inference_mode():\n",
    "    predictions = linear_head(torch.tensor(feats, dtype=torch.float32)).softmax(dim=-1).cpu().numpy()"
   ]
  },
  {
   "cell_type": "code",
   "execution_count": null,
   "id": "76879233",
   "metadata": {},
   "outputs": [],
   "source": [
    "predictions.shape"
   ]
  },
  {
   "cell_type": "code",
   "execution_count": null,
   "id": "e7dad30c",
   "metadata": {},
   "outputs": [],
   "source": [
    "wsi_path = Path(slides_dir) / attrs['relative_wsi_path']\n",
    "wsi = openslide.OpenSlide(str(wsi_path))"
   ]
  },
  {
   "cell_type": "code",
   "execution_count": null,
   "id": "3f462587",
   "metadata": {},
   "outputs": [],
   "source": [
    "def compute_level_downsamples(wsi):\n",
    "    \"\"\"Return (x, y) downsample per level, matching CLAM behavior.\"\"\"\n",
    "    outs = []\n",
    "    dim0 = wsi.level_dimensions[0]\n",
    "    for ds, dim in zip(wsi.level_downsamples, wsi.level_dimensions):\n",
    "        est = (dim0[0] / float(dim[0]), dim0[1] / float(dim[1]))\n",
    "        outs.append(est if est != (ds, ds) else (ds, ds))\n",
    "    return outs"
   ]
  },
  {
   "cell_type": "code",
   "execution_count": null,
   "id": "5d69756b",
   "metadata": {},
   "outputs": [],
   "source": [
    "wsi.level_downsamples\n",
    "wsi.properties[openslide.PROPERTY_NAME_MPP_X]\n",
    "wsi.get_best_level_for_downsample(20)"
   ]
  },
  {
   "cell_type": "code",
   "execution_count": null,
   "id": "1f8b597f",
   "metadata": {},
   "outputs": [],
   "source": [
    "wsi.level_dimensions[4]"
   ]
  },
  {
   "cell_type": "code",
   "execution_count": null,
   "id": "04826ae6",
   "metadata": {},
   "outputs": [],
   "source": [
    "\n",
    "def compute_heatmaps(\n",
    "    wsi,\n",
    "    coords,                 # (N,2) top-left tile coords at patch_level\n",
    "    predictions,            # (N, n_classes)\n",
    "    patch_size=224,\n",
    "    patch_level=0,\n",
    "    n_classes=7,\n",
    "    heatmap_level=4,\n",
    "):\n",
    "    coords = np.asarray(coords, dtype=np.float64)\n",
    "    predictions = np.asarray(predictions, dtype=np.float32)\n",
    "    if predictions.ndim == 1:\n",
    "        predictions = predictions[:, None]\n",
    "\n",
    "    # level-0 sizing\n",
    "    level_downsample_patch = float(wsi.level_downsamples[patch_level])\n",
    "    patch_size_level0 = patch_size * level_downsample_patch\n",
    "\n",
    "    # 1) origin/max in level-0 coords (tight bbox around tiles, using top-left)\n",
    "    min_x0 = float(coords[:, 0].min())\n",
    "    min_y0 = float(coords[:, 1].min())\n",
    "    max_x0 = float(coords[:, 0].max() + patch_size_level0)\n",
    "    max_y0 = float(coords[:, 1].max() + patch_size_level0)\n",
    "\n",
    "    origin_x0, origin_y0 = min_x0, min_y0\n",
    "\n",
    "    # 2) grid size in “tile cells”\n",
    "    grid_w = int(np.ceil((max_x0 - origin_x0) / patch_size_level0))\n",
    "    grid_h = int(np.ceil((max_y0 - origin_y0) / patch_size_level0))\n",
    "\n",
    "    # 3) instantiate heatmap grid (one cell per tile) + fill\n",
    "    heatmaps = np.zeros((grid_h, grid_w, n_classes), dtype=np.float32)\n",
    "\n",
    "    # map each tile to integer cell indices (use floor)\n",
    "    x_idx = np.floor((coords[:, 0] - origin_x0) / patch_size_level0).astype(np.int64)\n",
    "    y_idx = np.floor((coords[:, 1] - origin_y0) / patch_size_level0).astype(np.int64)\n",
    "\n",
    "    # clip for safety\n",
    "    x_idx = np.clip(x_idx, 0, grid_w - 1)\n",
    "    y_idx = np.clip(y_idx, 0, grid_h - 1)\n",
    "\n",
    "    for i in range(coords.shape[0]):\n",
    "        heatmaps[y_idx[i], x_idx[i], :] = predictions[i, :]\n",
    "\n",
    "    # 4) resample to the requested WSI level\n",
    "    output_W, output_H = wsi.level_dimensions[heatmap_level]  # (W, H)\n",
    "    d_out = float(wsi.level_downsamples[heatmap_level])       # level-0 px per output px\n",
    "\n",
    "    # Build affine: output (row,col) -> input (row_in,col_in) on the tile grid\n",
    "    scale = d_out / patch_size_level0  # how many tile-cells per output pixel\n",
    "    A = np.array([[scale, 0.0],\n",
    "                  [0.0,  scale]], dtype=np.float64)\n",
    "\n",
    "    # offset is in input-index units (tile cells), note row=y, col=x ordering\n",
    "    offset = np.array([\n",
    "        -origin_y0 / patch_size_level0,  # row offset\n",
    "        -origin_x0 / patch_size_level0,  # col offset\n",
    "    ], dtype=np.float64)\n",
    "\n",
    "    # apply per-channel\n",
    "    out = np.zeros((output_H, output_W, n_classes), dtype=np.float32)\n",
    "    for c in range(n_classes):\n",
    "        out[:, :, c] = affine_transform(\n",
    "            heatmaps[:, :, c],\n",
    "            matrix=A,\n",
    "            offset=offset,\n",
    "            output_shape=(output_H, output_W),\n",
    "            order=1,                # bilinear\n",
    "            mode='constant',\n",
    "            cval=0.0,\n",
    "            prefilter=True,\n",
    "        )\n",
    "\n",
    "    return out\n"
   ]
  },
  {
   "cell_type": "code",
   "execution_count": null,
   "id": "628c6a46",
   "metadata": {},
   "outputs": [],
   "source": [
    "heatmaps = compute_heatmaps(\n",
    "    wsi,\n",
    "    coords,\n",
    "    predictions,\n",
    "    patch_size=attrs[\"patch_size\"],\n",
    "    patch_level=attrs[\"patch_level\"],\n",
    "    n_classes=7,\n",
    "    heatmap_level=4,\n",
    ")"
   ]
  },
  {
   "cell_type": "code",
   "execution_count": null,
   "id": "f9077369",
   "metadata": {},
   "outputs": [],
   "source": [
    "# Plot all 7 classes with names and adjusted colormaps\n",
    "fig, axes = plt.subplots(2, 4, figsize=(16, 8))\n",
    "axes = axes.flatten()\n",
    "\n",
    "# Get the thumbnail for reference\n",
    "thumbnail = wsi.get_thumbnail((400, 400))\n",
    "\n",
    "# Plot thumbnail in first subplot\n",
    "axes[0].imshow(thumbnail)\n",
    "axes[0].set_title('WSI Thumbnail')\n",
    "axes[0].axis('off')\n",
    "\n",
    "# Plot each class heatmap\n",
    "for class_idx in range(7):\n",
    "    class_name = ANORAK_CLASS_MAPPING[class_idx]\n",
    "    \n",
    "    # Use different colormaps for better distinction\n",
    "    cmaps = ['Blues', 'Reds', 'Greens', 'Purples', 'Oranges', 'viridis', 'plasma']\n",
    "    \n",
    "    im = axes[class_idx + 1].imshow(heatmaps[..., class_idx], \n",
    "                                   cmap=cmaps[class_idx], \n",
    "                                   vmin=0, vmax=1)\n",
    "    axes[class_idx + 1].set_title(f'Class {class_idx}: {class_name}')\n",
    "    axes[class_idx + 1].axis('off')\n",
    "    \n",
    "    # Add colorbar for each subplot\n",
    "    plt.colorbar(im, ax=axes[class_idx + 1], fraction=0.046, pad=0.04)\n",
    "\n",
    "plt.tight_layout()\n",
    "plt.show()"
   ]
  },
  {
   "cell_type": "code",
   "execution_count": null,
   "id": "fc7b3bbb",
   "metadata": {},
   "outputs": [],
   "source": [
    "get_class_from_slide_id(slide_id)"
   ]
  },
  {
   "cell_type": "code",
   "execution_count": null,
   "id": "34e92b54",
   "metadata": {},
   "outputs": [],
   "source": []
  }
 ],
 "metadata": {
  "kernelspec": {
   "display_name": "histoseg",
   "language": "python",
   "name": "python3"
  },
  "language_info": {
   "codemirror_mode": {
    "name": "ipython",
    "version": 3
   },
   "file_extension": ".py",
   "mimetype": "text/x-python",
   "name": "python",
   "nbconvert_exporter": "python",
   "pygments_lexer": "ipython3",
   "version": "3.12.11"
  }
 },
 "nbformat": 4,
 "nbformat_minor": 5
}
