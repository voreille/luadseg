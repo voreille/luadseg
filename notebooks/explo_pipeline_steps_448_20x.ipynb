{
 "cells": [
  {
   "cell_type": "code",
   "execution_count": null,
   "id": "fd0d4ea9",
   "metadata": {},
   "outputs": [],
   "source": [
    "from pathlib import Path\n",
    "\n",
    "import pandas as pd\n",
    "import numpy as np\n",
    "import matplotlib.pyplot as plt\n",
    "import seaborn as sns\n",
    "from sklearn.manifold import TSNE\n",
    "import umap\n",
    "from luadseg.eval.anorak import _load_index, _load_embeddings_matrix"
   ]
  },
  {
   "cell_type": "code",
   "execution_count": null,
   "id": "7fa9053c",
   "metadata": {},
   "outputs": [],
   "source": [
    "tile_size = 448\n",
    "mag_label = \"20x\"\n",
    "\n",
    "df = pd.read_parquet(f\"/home/valentin/workspaces/luadseg/data/tiles/ANORAK/tiles_{tile_size}_{mag_label}_pad/index.parquet\")\n",
    "df.to_csv(f\"/home/valentin/workspaces/luadseg/data/tiles/ANORAK/tiles_{tile_size}_{mag_label}_pad/index.csv\", index=False)\n"
   ]
  },
  {
   "cell_type": "code",
   "execution_count": null,
   "id": "99916df4",
   "metadata": {},
   "outputs": [],
   "source": [
    "df = df.set_index(\"tile_idx\")"
   ]
  },
  {
   "cell_type": "code",
   "execution_count": null,
   "id": "1c0bd7d1",
   "metadata": {},
   "outputs": [],
   "source": [
    "df.head()"
   ]
  },
  {
   "cell_type": "code",
   "execution_count": null,
   "id": "1f41c3fc",
   "metadata": {},
   "outputs": [],
   "source": [
    "pt_path = f\"/home/valentin/workspaces/luadseg/data/embeds/ANORAK/UNI2_anorak_{tile_size}_{mag_label}/UNI2_anorak_{tile_size}_{mag_label}.pt\"\n",
    "sn_pt_path = f\"/home/valentin/workspaces/luadseg/data/embeds/ANORAK/UNI2_anorak_{tile_size}_{mag_label}_SN-train046_Da777/UNI2_anorak_{tile_size}_{mag_label}_SN-train046_Da777.pt\""
   ]
  },
  {
   "cell_type": "code",
   "execution_count": null,
   "id": "6f8a1b9f",
   "metadata": {},
   "outputs": [],
   "source": [
    "pattern_cols = [f\"ratio_{i}\" for i in range(7)]\n",
    "df[\"sum_ratios\"] = df[pattern_cols].sum(axis=1)\n",
    "\n",
    "pattern_cols = [f\"ratio_{i}\" for i in range(1, 7)]\n",
    "df[\"max_ratio\"] = df[pattern_cols].max(axis=1)"
   ]
  },
  {
   "cell_type": "code",
   "execution_count": null,
   "id": "afc60406",
   "metadata": {},
   "outputs": [],
   "source": [
    "X, tile_idx = _load_embeddings_matrix(Path(pt_path))  # [N, D]\n",
    "X_sn, tile_idx_sn = _load_embeddings_matrix(Path(sn_pt_path))  # [N, D]"
   ]
  },
  {
   "cell_type": "code",
   "execution_count": null,
   "id": "bdcd26c5",
   "metadata": {},
   "outputs": [],
   "source": [
    "(tile_idx != tile_idx_sn).sum()  # should be 0"
   ]
  },
  {
   "cell_type": "code",
   "execution_count": null,
   "id": "1512421a",
   "metadata": {},
   "outputs": [],
   "source": [
    "df = df.loc[tile_idx]"
   ]
  },
  {
   "cell_type": "code",
   "execution_count": null,
   "id": "3e8da057",
   "metadata": {},
   "outputs": [],
   "source": [
    "df_filtered = df[df[\"max_ratio\"] > 0.5]\n",
    "df_filtered.shape\n"
   ]
  },
  {
   "cell_type": "code",
   "execution_count": null,
   "id": "4a081e7e",
   "metadata": {},
   "outputs": [],
   "source": [
    "X = X[df_filtered.index.values]  # [N_filtered, D]\n",
    "X_sn = X_sn[df_filtered.index.values]  # [N_filtered, D]"
   ]
  },
  {
   "cell_type": "code",
   "execution_count": null,
   "id": "6f26b883",
   "metadata": {},
   "outputs": [],
   "source": [
    "X_sn.shape"
   ]
  },
  {
   "cell_type": "code",
   "execution_count": null,
   "id": "c63c70cf",
   "metadata": {},
   "outputs": [],
   "source": [
    "y = df_filtered[\"dominant_label\"].values"
   ]
  },
  {
   "cell_type": "code",
   "execution_count": null,
   "id": "b43e22ba",
   "metadata": {},
   "outputs": [],
   "source": [
    "umap_reducer = umap.UMAP(n_components=2, random_state=42)\n",
    "X_umap = umap_reducer.fit_transform(X)\n"
   ]
  },
  {
   "cell_type": "code",
   "execution_count": null,
   "id": "3ad53a95",
   "metadata": {},
   "outputs": [],
   "source": [
    "\n",
    "# t-SNE\n",
    "tsne = TSNE(n_components=2, random_state=42, perplexity=30)\n",
    "X_tsne = tsne.fit_transform(X)\n"
   ]
  },
  {
   "cell_type": "code",
   "execution_count": null,
   "id": "b059f3b2",
   "metadata": {},
   "outputs": [],
   "source": [
    "np.unique(y)"
   ]
  },
  {
   "cell_type": "code",
   "execution_count": null,
   "id": "fb1a4c94",
   "metadata": {},
   "outputs": [],
   "source": [
    "import matplotlib.pyplot as plt\n",
    "import seaborn as sns\n",
    "import numpy as np\n",
    "\n",
    "# assume you have:\n",
    "# X_umap, X_tsne: (n_samples, 2)\n",
    "# y: (n_samples,) with 6 discrete labels (e.g. 0–5)\n",
    "\n",
    "unique_classes = np.unique(y)\n",
    "palette = sns.color_palette(\"tab10\", len(unique_classes))\n",
    "cmap = dict(zip(unique_classes, palette))\n",
    "\n",
    "fig, axes = plt.subplots(1, 2, figsize=(12, 5))\n",
    "\n",
    "# --- UMAP ---\n",
    "for cls in unique_classes:\n",
    "    mask = y == cls\n",
    "    axes[0].scatter(\n",
    "        X_umap[mask, 0], X_umap[mask, 1],\n",
    "        color=cmap[cls], s=10, label=f\"Class {cls}\"\n",
    "    )\n",
    "axes[0].set_title(\"UMAP projection\")\n",
    "axes[0].set_xlabel(\"UMAP-1\")\n",
    "axes[0].set_ylabel(\"UMAP-2\")\n",
    "axes[0].legend(title=\"Class\", bbox_to_anchor=(1.05, 1), loc=\"upper left\")\n",
    "\n",
    "# --- t-SNE ---\n",
    "for cls in unique_classes:\n",
    "    mask = y == cls\n",
    "    axes[1].scatter(\n",
    "        X_tsne[mask, 0], X_tsne[mask, 1],\n",
    "        color=cmap[cls], s=10, label=f\"Class {cls}\"\n",
    "    )\n",
    "axes[1].set_title(\"t-SNE projection\")\n",
    "axes[1].set_xlabel(\"tSNE-1\")\n",
    "axes[1].set_ylabel(\"tSNE-2\")\n",
    "\n",
    "plt.tight_layout()\n",
    "plt.show()\n"
   ]
  },
  {
   "cell_type": "code",
   "execution_count": null,
   "id": "1d94761f",
   "metadata": {},
   "outputs": [],
   "source": [
    "import plotly.express as px\n",
    "import pandas as pd\n",
    "from luadseg.data.constants import ANORAK_CLASS_MAPPING, PATTERN_COLORS\n"
   ]
  },
  {
   "cell_type": "code",
   "execution_count": null,
   "id": "61534d54",
   "metadata": {},
   "outputs": [],
   "source": [
    "tile_idx = df_filtered.index.values\n",
    "tile_id = df_filtered['tile_id'].values\n",
    "\n",
    "df = pd.DataFrame({\n",
    "    'x': X_tsne[:, 0],\n",
    "    'y': X_tsne[:, 1],\n",
    "    'label': y,\n",
    "    'tile_id': tile_id\n",
    "})\n",
    "\n",
    "# Map numeric labels to class names\n",
    "df['label_name'] = df['label'].map(ANORAK_CLASS_MAPPING)\n",
    "\n",
    "# Convert RGB (0–255) to hex\n",
    "def rgb_to_hex(rgb):\n",
    "    return '#%02x%02x%02x' % rgb\n",
    "\n",
    "color_discrete_map = {k: rgb_to_hex(v) for k, v in PATTERN_COLORS.items() if k in ANORAK_CLASS_MAPPING.values()}\n",
    "\n",
    "# --- plot ---\n",
    "fig = px.scatter(\n",
    "    df,\n",
    "    x='x', y='y',\n",
    "    color='label_name',\n",
    "    color_discrete_map=color_discrete_map,\n",
    "    hover_data=['tile_id'],\n",
    "    title=\"UMAP projection (hover to see tile ID)\"\n",
    ")\n",
    "\n",
    "fig.update_traces(marker=dict(size=5))\n",
    "fig.update_layout(\n",
    "    legend_title_text=\"Pattern class\",\n",
    "    legend=dict(itemsizing='constant')\n",
    ")\n",
    "fig.show()"
   ]
  },
  {
   "cell_type": "code",
   "execution_count": null,
   "id": "65e8b5a4",
   "metadata": {},
   "outputs": [],
   "source": [
    "df_filtered[\"tile_id\"]"
   ]
  },
  {
   "cell_type": "code",
   "execution_count": null,
   "id": "9171766c",
   "metadata": {},
   "outputs": [],
   "source": [
    "X_tsne = tsne.fit_transform(X_sn)"
   ]
  },
  {
   "cell_type": "code",
   "execution_count": null,
   "id": "9d371e30",
   "metadata": {},
   "outputs": [],
   "source": [
    "tile_idx = df_filtered.index.values\n",
    "tile_id = df_filtered['tile_id'].values\n",
    "\n",
    "df = pd.DataFrame({\n",
    "    'x': X_tsne[:, 0],\n",
    "    'y': X_tsne[:, 1],\n",
    "    'label': y,\n",
    "    'tile_id': tile_id\n",
    "})\n",
    "\n",
    "# Map numeric labels to class names\n",
    "df['label_name'] = df['label'].map(ANORAK_CLASS_MAPPING)\n",
    "\n",
    "# Convert RGB (0–255) to hex\n",
    "def rgb_to_hex(rgb):\n",
    "    return '#%02x%02x%02x' % rgb\n",
    "\n",
    "color_discrete_map = {k: rgb_to_hex(v) for k, v in PATTERN_COLORS.items() if k in ANORAK_CLASS_MAPPING.values()}\n",
    "\n",
    "# --- plot ---\n",
    "fig = px.scatter(\n",
    "    df,\n",
    "    x='x', y='y',\n",
    "    color='label_name',\n",
    "    color_discrete_map=color_discrete_map,\n",
    "    hover_data=['tile_id'],\n",
    "    title=\"UMAP projection (hover to see tile ID)\"\n",
    ")\n",
    "\n",
    "fig.update_traces(marker=dict(size=5))\n",
    "fig.update_layout(\n",
    "    legend_title_text=\"Pattern class\",\n",
    "    legend=dict(itemsizing='constant')\n",
    ")\n",
    "fig.show()"
   ]
  },
  {
   "cell_type": "code",
   "execution_count": null,
   "id": "7b419e04",
   "metadata": {},
   "outputs": [],
   "source": []
  }
 ],
 "metadata": {
  "kernelspec": {
   "display_name": "histoseg",
   "language": "python",
   "name": "python3"
  },
  "language_info": {
   "codemirror_mode": {
    "name": "ipython",
    "version": 3
   },
   "file_extension": ".py",
   "mimetype": "text/x-python",
   "name": "python",
   "nbconvert_exporter": "python",
   "pygments_lexer": "ipython3",
   "version": "3.12.11"
  }
 },
 "nbformat": 4,
 "nbformat_minor": 5
}
